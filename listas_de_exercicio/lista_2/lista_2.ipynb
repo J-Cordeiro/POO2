{
 "cells": [
  {
   "cell_type": "markdown",
   "metadata": {},
   "source": [
    "# Info\n",
    "## Lista 2\n",
    " **Aluno:**João Pedro Schmidt Cordeiro\n",
    " \n",
    " **Data:** 11/09/2022\n",
    " \n",
    " **Matéria:** Programação Orientada a Objetos 2\n",
    " \n",
    " **Professores:** Jônata Tyska Carvalho e Mateus Grellert da Silva"
   ]
  },
  {
   "cell_type": "markdown",
   "metadata": {},
   "source": [
    "## Exercício 1. \n",
    "Faça um Programa que leia um vetor de 5 números inteiros e mostre-os."
   ]
  },
  {
   "cell_type": "code",
   "execution_count": 1,
   "metadata": {},
   "outputs": [
    {
     "name": "stdout",
     "output_type": "stream",
     "text": [
      "1 2 3 4 5\n"
     ]
    }
   ],
   "source": [
    "vetor = [1, 2, 3, 4, 5]\n",
    "\n",
    "def main ():\n",
    "    l = vetor\n",
    "    print(*l)\n",
    "    \n",
    "main()\n",
    "    "
   ]
  },
  {
   "cell_type": "markdown",
   "metadata": {},
   "source": [
    "## Exercício 2. \n",
    "Faça um Programa que leia um vetor de 10 números reais e mostre-os na\n",
    "ordem inversa."
   ]
  },
  {
   "cell_type": "code",
   "execution_count": 6,
   "metadata": {},
   "outputs": [
    {
     "name": "stdout",
     "output_type": "stream",
     "text": [
      "0 9 8 7 6 5 4 3 2 1\n"
     ]
    }
   ],
   "source": [
    "vetor = [1, 2, 3, 4, 5, 6, 7, 8 ,9 ,0]\n",
    "\n",
    "def main():\n",
    "    l = vetor[::-1]\n",
    "    print(*l)\n",
    "    \n",
    "main()"
   ]
  },
  {
   "cell_type": "markdown",
   "metadata": {},
   "source": [
    "## Exercício 3. \n",
    "Faça um Programa que leia 4 notas, mostre as notas e a média na tela."
   ]
  },
  {
   "cell_type": "code",
   "execution_count": 12,
   "metadata": {},
   "outputs": [
    {
     "name": "stdin",
     "output_type": "stream",
     "text": [
      " 5 5 5 5\n"
     ]
    },
    {
     "name": "stdout",
     "output_type": "stream",
     "text": [
      "5.0\n"
     ]
    }
   ],
   "source": [
    "def main():\n",
    "    notas = list(map(int, input().split()))\n",
    "    sum = 0\n",
    "    for n in notas:\n",
    "        sum += n\n",
    "    result = sum / len(notas)\n",
    "    print(result)\n",
    "    \n",
    "    \n",
    "main()\n",
    "    "
   ]
  },
  {
   "cell_type": "markdown",
   "metadata": {},
   "source": [
    "## Exercício 4. \n",
    "Faça um Programa que leia um vetor de 10 caracteres, e diga quantas\n",
    "consoantes foram lidas. Imprima as consoantes."
   ]
  },
  {
   "cell_type": "code",
   "execution_count": 17,
   "metadata": {},
   "outputs": [
    {
     "name": "stdin",
     "output_type": "stream",
     "text": [
      " oiuouiouiouyifghfxgsdvzcsz\\sfa\n"
     ]
    },
    {
     "name": "stdout",
     "output_type": "stream",
     "text": [
      "Número de consoantes: 16\n",
      "y f g h f x g s d v z c s z s f\n"
     ]
    }
   ],
   "source": [
    "vetor = \"palavra chave\"\n",
    "consonants = set(\"bcdfghjklmnpqrstvwxyz\")\n",
    "\n",
    "def main():\n",
    "    v = input()\n",
    "    consonants_c = []\n",
    "    for l in v:\n",
    "        if l in consonants:\n",
    "            consonants_c.append(l)\n",
    "    print(f\"Número de consoantes: {len(consonants_c)}\")\n",
    "    print(*consonants_c)\n",
    "            \n",
    "main()"
   ]
  },
  {
   "cell_type": "markdown",
   "metadata": {},
   "source": [
    "## Exercício 5. \n",
    "- Faça um Programa que leia 20 números inteiros e armazene-os num vetor. \n",
    "- Armazene os números pares no vetor PAR e os números IMPARES no vetor impar. \n",
    "- Imprima os três vetores."
   ]
  },
  {
   "cell_type": "code",
   "execution_count": 21,
   "metadata": {},
   "outputs": [
    {
     "name": "stdin",
     "output_type": "stream",
     "text": [
      " 3\n",
      " 2\n",
      " 1\n"
     ]
    },
    {
     "name": "stdout",
     "output_type": "stream",
     "text": [
      "Lista par\n",
      "2\n",
      "Lista ímpar\n",
      "3 1\n"
     ]
    }
   ],
   "source": [
    "reps = 3\n",
    "\n",
    "def main():\n",
    "    lista_par = []\n",
    "    lista_impar = []\n",
    "    for _ in range(reps):\n",
    "        n = int(input())\n",
    "        if n % 2 == 0:\n",
    "            lista_par.append(n)\n",
    "        else:\n",
    "            lista_impar.append(n)\n",
    "    print(\"Lista par\")\n",
    "    print(*lista_par)\n",
    "    print(\"Lista ímpar\")\n",
    "    print(*lista_impar)\n",
    "    \n",
    "main()"
   ]
  },
  {
   "cell_type": "markdown",
   "metadata": {},
   "source": [
    "## Exercício 6. \n",
    "Faça um Programa que peça as quatro notas de 10 alunos, calcule e\n",
    "armazene num vetor a média de cada aluno, imprima o número de alunos com média\n",
    "maior ou igual a 7.0."
   ]
  },
  {
   "cell_type": "code",
   "execution_count": 23,
   "metadata": {},
   "outputs": [
    {
     "name": "stdin",
     "output_type": "stream",
     "text": [
      " \n"
     ]
    },
    {
     "ename": "ZeroDivisionError",
     "evalue": "division by zero",
     "output_type": "error",
     "traceback": [
      "\u001b[0;31m---------------------------------------------------------------------------\u001b[0m",
      "\u001b[0;31mZeroDivisionError\u001b[0m                         Traceback (most recent call last)",
      "\u001b[0;32m<ipython-input-23-0eff6bbfce86>\u001b[0m in \u001b[0;36m<module>\u001b[0;34m\u001b[0m\n\u001b[1;32m     15\u001b[0m             \u001b[0mprint\u001b[0m\u001b[0;34m(\u001b[0m\u001b[0mmedia\u001b[0m\u001b[0;34m)\u001b[0m\u001b[0;34m\u001b[0m\u001b[0;34m\u001b[0m\u001b[0m\n\u001b[1;32m     16\u001b[0m \u001b[0;34m\u001b[0m\u001b[0m\n\u001b[0;32m---> 17\u001b[0;31m \u001b[0mmain\u001b[0m\u001b[0;34m(\u001b[0m\u001b[0;34m)\u001b[0m\u001b[0;34m\u001b[0m\u001b[0;34m\u001b[0m\u001b[0m\n\u001b[0m",
      "\u001b[0;32m<ipython-input-23-0eff6bbfce86>\u001b[0m in \u001b[0;36mmain\u001b[0;34m()\u001b[0m\n\u001b[1;32m      8\u001b[0m         \u001b[0ml\u001b[0m \u001b[0;34m=\u001b[0m \u001b[0mlist\u001b[0m\u001b[0;34m(\u001b[0m\u001b[0mmap\u001b[0m\u001b[0;34m(\u001b[0m\u001b[0mint\u001b[0m\u001b[0;34m,\u001b[0m \u001b[0minput\u001b[0m\u001b[0;34m(\u001b[0m\u001b[0;34m)\u001b[0m\u001b[0;34m.\u001b[0m\u001b[0msplit\u001b[0m\u001b[0;34m(\u001b[0m\u001b[0;34m)\u001b[0m\u001b[0;34m)\u001b[0m\u001b[0;34m)\u001b[0m\u001b[0;34m\u001b[0m\u001b[0;34m\u001b[0m\u001b[0m\n\u001b[1;32m      9\u001b[0m         \u001b[0msoma\u001b[0m \u001b[0;34m=\u001b[0m \u001b[0msum\u001b[0m\u001b[0;34m(\u001b[0m\u001b[0ml\u001b[0m\u001b[0;34m)\u001b[0m\u001b[0;34m\u001b[0m\u001b[0;34m\u001b[0m\u001b[0m\n\u001b[0;32m---> 10\u001b[0;31m         \u001b[0mmedia\u001b[0m \u001b[0;34m=\u001b[0m \u001b[0msoma\u001b[0m \u001b[0;34m/\u001b[0m \u001b[0mlen\u001b[0m\u001b[0;34m(\u001b[0m\u001b[0ml\u001b[0m\u001b[0;34m)\u001b[0m\u001b[0;34m\u001b[0m\u001b[0;34m\u001b[0m\u001b[0m\n\u001b[0m\u001b[1;32m     11\u001b[0m         \u001b[0mlista_medias\u001b[0m\u001b[0;34m.\u001b[0m\u001b[0mappend\u001b[0m\u001b[0;34m(\u001b[0m\u001b[0mmedia\u001b[0m\u001b[0;34m)\u001b[0m\u001b[0;34m\u001b[0m\u001b[0;34m\u001b[0m\u001b[0m\n\u001b[1;32m     12\u001b[0m \u001b[0;34m\u001b[0m\u001b[0m\n",
      "\u001b[0;31mZeroDivisionError\u001b[0m: division by zero"
     ]
    }
   ],
   "source": [
    "alunos = 10\n",
    "\n",
    "def main():\n",
    "    \n",
    "    lista_medias = []\n",
    "    \n",
    "    for _ in range(alunos):\n",
    "        l = list(map(int, input().split()))\n",
    "        soma = sum(l)\n",
    "        media = soma / len(l)\n",
    "        lista_medias.append(media)\n",
    "    \n",
    "    for media in lista_medias:\n",
    "        if media >= 7:\n",
    "            print(media)\n",
    "    \n",
    "main()"
   ]
  },
  {
   "cell_type": "markdown",
   "metadata": {},
   "source": [
    "## Exercício 7. \n",
    "Faça um Programa que leia um vetor de 5 números inteiros, mostre a\n",
    "soma, a multiplicação e os números."
   ]
  },
  {
   "cell_type": "code",
   "execution_count": 29,
   "metadata": {},
   "outputs": [
    {
     "name": "stdout",
     "output_type": "stream",
     "text": [
      "Soma: 21\n",
      "Multiplicação: 840\n",
      "Números: 5 4 7 2 3\n"
     ]
    }
   ],
   "source": [
    "import numpy\n",
    "\n",
    "vetor = [5, 4, 7, 2, 3]\n",
    "\n",
    "def main():\n",
    "    v = vetor\n",
    "    soma = sum(v)\n",
    "    multiplicacao = numpy.prod(v)\n",
    "    \n",
    "    print(f\"Soma: {soma}\")\n",
    "    print(f\"Multiplicação: {multiplicacao}\")\n",
    "    print(\"Números: \", end=\"\")\n",
    "    print(*vetor)\n",
    "    \n",
    "main()"
   ]
  },
  {
   "cell_type": "markdown",
   "metadata": {},
   "source": [
    "## Exercício 8.\n",
    "\n",
    "Faça um Programa que peça a idade e a altura de 5 pessoas, armazene\n",
    "cada informação no seu respectivo vetor. Imprima a idade e a altura na ordem inversa\n",
    "a ordem lida."
   ]
  },
  {
   "cell_type": "code",
   "execution_count": 30,
   "metadata": {},
   "outputs": [
    {
     "name": "stdout",
     "output_type": "stream",
     "text": [
      "Digite idade e altura separados por um espaço:\n"
     ]
    },
    {
     "name": "stdin",
     "output_type": "stream",
     "text": [
      " 15 5\n",
      " 48 8\n"
     ]
    },
    {
     "name": "stdout",
     "output_type": "stream",
     "text": [
      "Alturas:8 5\n",
      "Idades:48 15\n"
     ]
    }
   ],
   "source": [
    "pessoas = 2\n",
    "\n",
    "def main():\n",
    "    print(\"Digite idade e altura separados por um espaço:\")\n",
    "    \n",
    "    vetor_idade = []\n",
    "    vetor_altura = []\n",
    "    \n",
    "    for _ in range(pessoas):\n",
    "        idade, altura = map(int, input().split())\n",
    "        vetor_idade.append(idade)\n",
    "        vetor_altura.append(altura)\n",
    "    print(\"Alturas:\", end=\"\")\n",
    "    print(*vetor_altura[::-1])\n",
    "    print(\"Idades:\", end=\"\")\n",
    "    print(*vetor_idade[::-1])\n",
    "        \n",
    "main()\n",
    "        "
   ]
  },
  {
   "cell_type": "markdown",
   "metadata": {},
   "source": [
    "## Exercício 9. \n",
    "Faça um Programa que leia um vetor A com 10 números inteiros, calcule\n",
    "e mostre a soma dos quadrados dos elementos do vetor."
   ]
  },
  {
   "cell_type": "code",
   "execution_count": 32,
   "metadata": {},
   "outputs": [
    {
     "name": "stdout",
     "output_type": "stream",
     "text": [
      "Soma dos quadrados: 20\n"
     ]
    }
   ],
   "source": [
    "vetor = [2, 4]\n",
    "\n",
    "def main():\n",
    "    l = vetor\n",
    "    \n",
    "    soma = 0\n",
    "    for v in l:\n",
    "        soma += v*v\n",
    "\n",
    "    print(f\"Soma dos quadrados: {soma}\")\n",
    "    \n",
    "main()"
   ]
  },
  {
   "cell_type": "markdown",
   "metadata": {},
   "source": [
    "## Exercício 10. \n",
    "Faça um Programa que leia dois vetores com 10 elementos cada. Gere\n",
    "um terceiro vetor de 20 elementos, cujos valores deverão ser compostos pelos\n",
    "elementos intercalados dos dois outros vetores."
   ]
  },
  {
   "cell_type": "code",
   "execution_count": 4,
   "metadata": {},
   "outputs": [
    {
     "name": "stdout",
     "output_type": "stream",
     "text": [
      "[2, 5, 3, 9, 30, 21, 54, 52, 4, 97, 87, 44, 554, 4, 40, 732, 74, 99, 120, 142]\n",
      "20\n"
     ]
    }
   ],
   "source": [
    "vetor1 = [2, 3, 30, 54, 4, 87, 554, 40, 74, 120]\n",
    "vetor2 = [5, 9, 21, 52, 97, 44, 4, 732, 99, 142]\n",
    "\n",
    "def main():\n",
    "    vetor_final = []\n",
    "    for i in range(len(vetor1)):\n",
    "        vetor_final.append(vetor1[i])\n",
    "        vetor_final.append(vetor2[i])\n",
    "        \n",
    "    print(vetor_final)\n",
    "    print(len(vetor_final))\n",
    "main()"
   ]
  },
  {
   "cell_type": "markdown",
   "metadata": {},
   "source": [
    "## Exercício 11. \n",
    "Altere o programa anterior, intercalando 3 vetores de 10 elementos cada."
   ]
  },
  {
   "cell_type": "code",
   "execution_count": 6,
   "metadata": {},
   "outputs": [
    {
     "name": "stdout",
     "output_type": "stream",
     "text": [
      "[2, 5, 5, 3, 9, 9, 30, 21, 21, 54, 52, 52, 4, 97, 97, 87, 44, 44, 554, 4, 4, 40, 732, 732, 74, 99, 99, 120, 142, 142]\n",
      "30\n"
     ]
    }
   ],
   "source": [
    "vetor1 = [2, 3, 30, 54, 4, 87, 554, 40, 74, 120]\n",
    "vetor2 = [5, 9, 21, 52, 97, 44, 4, 732, 99, 142]\n",
    "vetor3 = [5, 9, 21, 52, 97, 44, 4, 732, 99, 142]\n",
    "\n",
    "\n",
    "def main():\n",
    "    vetor_final = []\n",
    "    for i in range(len(vetor1)):\n",
    "        vetor_final.append(vetor1[i])\n",
    "        vetor_final.append(vetor2[i])\n",
    "        vetor_final.append(vetor3[i])\n",
    "\n",
    "        \n",
    "    print(vetor_final)\n",
    "    print(len(vetor_final))\n",
    "main()"
   ]
  },
  {
   "cell_type": "markdown",
   "metadata": {},
   "source": [
    "## Exercício 12. \n",
    "Foram anotadas as idades e alturas de 30 alunos. Faça um Programa\n",
    "que determine quantos alunos com mais de 13 anos possuem altura inferior à média de\n",
    "altura desses alunos."
   ]
  },
  {
   "cell_type": "code",
   "execution_count": 24,
   "metadata": {},
   "outputs": [
    {
     "name": "stdout",
     "output_type": "stream",
     "text": [
      "Digite idade e altura separados por um espaço:\n"
     ]
    },
    {
     "ename": "KeyboardInterrupt",
     "evalue": "",
     "output_type": "error",
     "traceback": [
      "\u001b[0;31m---------------------------------------------------------------------------\u001b[0m",
      "\u001b[0;31mKeyboardInterrupt\u001b[0m                         Traceback (most recent call last)",
      "\u001b[0;32m/opt/tljh/user/lib/python3.6/site-packages/ipykernel/kernelbase.py\u001b[0m in \u001b[0;36m_input_request\u001b[0;34m(self, prompt, ident, parent, password)\u001b[0m\n\u001b[1;32m    883\u001b[0m             \u001b[0;32mtry\u001b[0m\u001b[0;34m:\u001b[0m\u001b[0;34m\u001b[0m\u001b[0;34m\u001b[0m\u001b[0m\n\u001b[0;32m--> 884\u001b[0;31m                 \u001b[0mident\u001b[0m\u001b[0;34m,\u001b[0m \u001b[0mreply\u001b[0m \u001b[0;34m=\u001b[0m \u001b[0mself\u001b[0m\u001b[0;34m.\u001b[0m\u001b[0msession\u001b[0m\u001b[0;34m.\u001b[0m\u001b[0mrecv\u001b[0m\u001b[0;34m(\u001b[0m\u001b[0mself\u001b[0m\u001b[0;34m.\u001b[0m\u001b[0mstdin_socket\u001b[0m\u001b[0;34m,\u001b[0m \u001b[0;36m0\u001b[0m\u001b[0;34m)\u001b[0m\u001b[0;34m\u001b[0m\u001b[0;34m\u001b[0m\u001b[0m\n\u001b[0m\u001b[1;32m    885\u001b[0m             \u001b[0;32mexcept\u001b[0m \u001b[0mException\u001b[0m\u001b[0;34m:\u001b[0m\u001b[0;34m\u001b[0m\u001b[0;34m\u001b[0m\u001b[0m\n",
      "\u001b[0;32m/opt/tljh/user/lib/python3.6/site-packages/jupyter_client/session.py\u001b[0m in \u001b[0;36mrecv\u001b[0;34m(self, socket, mode, content, copy)\u001b[0m\n\u001b[1;32m    802\u001b[0m         \u001b[0;32mtry\u001b[0m\u001b[0;34m:\u001b[0m\u001b[0;34m\u001b[0m\u001b[0;34m\u001b[0m\u001b[0m\n\u001b[0;32m--> 803\u001b[0;31m             \u001b[0mmsg_list\u001b[0m \u001b[0;34m=\u001b[0m \u001b[0msocket\u001b[0m\u001b[0;34m.\u001b[0m\u001b[0mrecv_multipart\u001b[0m\u001b[0;34m(\u001b[0m\u001b[0mmode\u001b[0m\u001b[0;34m,\u001b[0m \u001b[0mcopy\u001b[0m\u001b[0;34m=\u001b[0m\u001b[0mcopy\u001b[0m\u001b[0;34m)\u001b[0m\u001b[0;34m\u001b[0m\u001b[0;34m\u001b[0m\u001b[0m\n\u001b[0m\u001b[1;32m    804\u001b[0m         \u001b[0;32mexcept\u001b[0m \u001b[0mzmq\u001b[0m\u001b[0;34m.\u001b[0m\u001b[0mZMQError\u001b[0m \u001b[0;32mas\u001b[0m \u001b[0me\u001b[0m\u001b[0;34m:\u001b[0m\u001b[0;34m\u001b[0m\u001b[0;34m\u001b[0m\u001b[0m\n",
      "\u001b[0;32m/opt/tljh/user/lib/python3.6/site-packages/zmq/sugar/socket.py\u001b[0m in \u001b[0;36mrecv_multipart\u001b[0;34m(self, flags, copy, track)\u001b[0m\n\u001b[1;32m    474\u001b[0m         \"\"\"\n\u001b[0;32m--> 475\u001b[0;31m         \u001b[0mparts\u001b[0m \u001b[0;34m=\u001b[0m \u001b[0;34m[\u001b[0m\u001b[0mself\u001b[0m\u001b[0;34m.\u001b[0m\u001b[0mrecv\u001b[0m\u001b[0;34m(\u001b[0m\u001b[0mflags\u001b[0m\u001b[0;34m,\u001b[0m \u001b[0mcopy\u001b[0m\u001b[0;34m=\u001b[0m\u001b[0mcopy\u001b[0m\u001b[0;34m,\u001b[0m \u001b[0mtrack\u001b[0m\u001b[0;34m=\u001b[0m\u001b[0mtrack\u001b[0m\u001b[0;34m)\u001b[0m\u001b[0;34m]\u001b[0m\u001b[0;34m\u001b[0m\u001b[0;34m\u001b[0m\u001b[0m\n\u001b[0m\u001b[1;32m    476\u001b[0m         \u001b[0;31m# have first part already, only loop while more to receive\u001b[0m\u001b[0;34m\u001b[0m\u001b[0;34m\u001b[0m\u001b[0;34m\u001b[0m\u001b[0m\n",
      "\u001b[0;32mzmq/backend/cython/socket.pyx\u001b[0m in \u001b[0;36mzmq.backend.cython.socket.Socket.recv\u001b[0;34m()\u001b[0m\n",
      "\u001b[0;32mzmq/backend/cython/socket.pyx\u001b[0m in \u001b[0;36mzmq.backend.cython.socket.Socket.recv\u001b[0;34m()\u001b[0m\n",
      "\u001b[0;32mzmq/backend/cython/socket.pyx\u001b[0m in \u001b[0;36mzmq.backend.cython.socket._recv_copy\u001b[0;34m()\u001b[0m\n",
      "\u001b[0;32m/opt/tljh/user/lib/python3.6/site-packages/zmq/backend/cython/checkrc.pxd\u001b[0m in \u001b[0;36mzmq.backend.cython.checkrc._check_rc\u001b[0;34m()\u001b[0m\n",
      "\u001b[0;31mKeyboardInterrupt\u001b[0m: ",
      "\nDuring handling of the above exception, another exception occurred:\n",
      "\u001b[0;31mKeyboardInterrupt\u001b[0m                         Traceback (most recent call last)",
      "\u001b[0;32m<ipython-input-24-e1a13687921b>\u001b[0m in \u001b[0;36m<module>\u001b[0;34m\u001b[0m\n\u001b[1;32m     18\u001b[0m             \u001b[0mnum\u001b[0m \u001b[0;34m+=\u001b[0m \u001b[0;36m1\u001b[0m\u001b[0;34m\u001b[0m\u001b[0;34m\u001b[0m\u001b[0m\n\u001b[1;32m     19\u001b[0m     \u001b[0mprint\u001b[0m\u001b[0;34m(\u001b[0m\u001b[0;34mf\"Número de alturas que satisfazem a condição {num}\"\u001b[0m\u001b[0;34m)\u001b[0m\u001b[0;34m\u001b[0m\u001b[0;34m\u001b[0m\u001b[0m\n\u001b[0;32m---> 20\u001b[0;31m \u001b[0mmain\u001b[0m\u001b[0;34m(\u001b[0m\u001b[0;34m)\u001b[0m\u001b[0;34m\u001b[0m\u001b[0;34m\u001b[0m\u001b[0m\n\u001b[0m\u001b[1;32m     21\u001b[0m \u001b[0;34m\u001b[0m\u001b[0m\n",
      "\u001b[0;32m<ipython-input-24-e1a13687921b>\u001b[0m in \u001b[0;36mmain\u001b[0;34m()\u001b[0m\n\u001b[1;32m      9\u001b[0m     \u001b[0mnum\u001b[0m \u001b[0;34m=\u001b[0m \u001b[0;36m0\u001b[0m\u001b[0;34m\u001b[0m\u001b[0;34m\u001b[0m\u001b[0m\n\u001b[1;32m     10\u001b[0m     \u001b[0;32mfor\u001b[0m \u001b[0m_\u001b[0m \u001b[0;32min\u001b[0m \u001b[0mrange\u001b[0m\u001b[0;34m(\u001b[0m\u001b[0mpessoas\u001b[0m\u001b[0;34m)\u001b[0m\u001b[0;34m:\u001b[0m\u001b[0;34m\u001b[0m\u001b[0;34m\u001b[0m\u001b[0m\n\u001b[0;32m---> 11\u001b[0;31m         \u001b[0midade\u001b[0m\u001b[0;34m,\u001b[0m \u001b[0maltura\u001b[0m \u001b[0;34m=\u001b[0m \u001b[0mmap\u001b[0m\u001b[0;34m(\u001b[0m\u001b[0mint\u001b[0m\u001b[0;34m,\u001b[0m \u001b[0minput\u001b[0m\u001b[0;34m(\u001b[0m\u001b[0;34m)\u001b[0m\u001b[0;34m.\u001b[0m\u001b[0msplit\u001b[0m\u001b[0;34m(\u001b[0m\u001b[0;34m)\u001b[0m\u001b[0;34m)\u001b[0m\u001b[0;34m\u001b[0m\u001b[0;34m\u001b[0m\u001b[0m\n\u001b[0m\u001b[1;32m     12\u001b[0m         \u001b[0mvetor_idade\u001b[0m\u001b[0;34m.\u001b[0m\u001b[0mappend\u001b[0m\u001b[0;34m(\u001b[0m\u001b[0midade\u001b[0m\u001b[0;34m)\u001b[0m\u001b[0;34m\u001b[0m\u001b[0;34m\u001b[0m\u001b[0m\n\u001b[1;32m     13\u001b[0m         \u001b[0mvetor_altura\u001b[0m\u001b[0;34m.\u001b[0m\u001b[0mappend\u001b[0m\u001b[0;34m(\u001b[0m\u001b[0maltura\u001b[0m\u001b[0;34m)\u001b[0m\u001b[0;34m\u001b[0m\u001b[0;34m\u001b[0m\u001b[0m\n",
      "\u001b[0;32m/opt/tljh/user/lib/python3.6/site-packages/ipykernel/kernelbase.py\u001b[0m in \u001b[0;36mraw_input\u001b[0;34m(self, prompt)\u001b[0m\n\u001b[1;32m    857\u001b[0m             \u001b[0mself\u001b[0m\u001b[0;34m.\u001b[0m\u001b[0m_parent_ident\u001b[0m\u001b[0;34m,\u001b[0m\u001b[0;34m\u001b[0m\u001b[0;34m\u001b[0m\u001b[0m\n\u001b[1;32m    858\u001b[0m             \u001b[0mself\u001b[0m\u001b[0;34m.\u001b[0m\u001b[0m_parent_header\u001b[0m\u001b[0;34m,\u001b[0m\u001b[0;34m\u001b[0m\u001b[0;34m\u001b[0m\u001b[0m\n\u001b[0;32m--> 859\u001b[0;31m             \u001b[0mpassword\u001b[0m\u001b[0;34m=\u001b[0m\u001b[0;32mFalse\u001b[0m\u001b[0;34m,\u001b[0m\u001b[0;34m\u001b[0m\u001b[0;34m\u001b[0m\u001b[0m\n\u001b[0m\u001b[1;32m    860\u001b[0m         )\n\u001b[1;32m    861\u001b[0m \u001b[0;34m\u001b[0m\u001b[0m\n",
      "\u001b[0;32m/opt/tljh/user/lib/python3.6/site-packages/ipykernel/kernelbase.py\u001b[0m in \u001b[0;36m_input_request\u001b[0;34m(self, prompt, ident, parent, password)\u001b[0m\n\u001b[1;32m    887\u001b[0m             \u001b[0;32mexcept\u001b[0m \u001b[0mKeyboardInterrupt\u001b[0m\u001b[0;34m:\u001b[0m\u001b[0;34m\u001b[0m\u001b[0;34m\u001b[0m\u001b[0m\n\u001b[1;32m    888\u001b[0m                 \u001b[0;31m# re-raise KeyboardInterrupt, to truncate traceback\u001b[0m\u001b[0;34m\u001b[0m\u001b[0;34m\u001b[0m\u001b[0;34m\u001b[0m\u001b[0m\n\u001b[0;32m--> 889\u001b[0;31m                 \u001b[0;32mraise\u001b[0m \u001b[0mKeyboardInterrupt\u001b[0m\u001b[0;34m\u001b[0m\u001b[0;34m\u001b[0m\u001b[0m\n\u001b[0m\u001b[1;32m    890\u001b[0m             \u001b[0;32melse\u001b[0m\u001b[0;34m:\u001b[0m\u001b[0;34m\u001b[0m\u001b[0;34m\u001b[0m\u001b[0m\n\u001b[1;32m    891\u001b[0m                 \u001b[0;32mbreak\u001b[0m\u001b[0;34m\u001b[0m\u001b[0;34m\u001b[0m\u001b[0m\n",
      "\u001b[0;31mKeyboardInterrupt\u001b[0m: "
     ]
    }
   ],
   "source": [
    "pessoas = 30\n",
    "\n",
    "def main():\n",
    "    print(\"Digite idade e altura separados por um espaço:\")\n",
    "    \n",
    "    vetor_altura = []\n",
    "    vetor_idade = []\n",
    "    \n",
    "    num = 0\n",
    "    for _ in range(pessoas):\n",
    "        idade, altura = map(int, input().split())\n",
    "        vetor_idade.append(idade)\n",
    "        vetor_altura.append(altura)\n",
    "    media_altura = sum(vetor_altura) / len(vetor_altura)\n",
    "    \n",
    "    for i in range(len(vetor_altura)):\n",
    "        if vetor_idade[i] > 13 and vetor_altura[i] < media_altura:\n",
    "            num += 1\n",
    "    print(f\"Número de alturas que satisfazem a condição {num}\")\n",
    "main()\n",
    "        "
   ]
  },
  {
   "cell_type": "markdown",
   "metadata": {},
   "source": [
    "## Exercício 13. \n",
    "Faça um programa que receba a temperatura média de cada mês do ano\n",
    "e armazene-as em uma lista. Após isto, calcule a média anual das temperaturas e\n",
    "mostre todas as temperaturas acima da média anual, e em que mês elas ocorreram\n",
    "(mostrar o mês por extenso: 1 – Janeiro, 2 – Fevereiro, . . . )."
   ]
  },
  {
   "cell_type": "code",
   "execution_count": 6,
   "metadata": {},
   "outputs": [
    {
     "name": "stdin",
     "output_type": "stream",
     "text": [
      "Digite a temperatura em Janeiro:  \n"
     ]
    },
    {
     "ename": "ValueError",
     "evalue": "invalid literal for int() with base 10: ''",
     "output_type": "error",
     "traceback": [
      "\u001b[0;31m---------------------------------------------------------------------------\u001b[0m",
      "\u001b[0;31mValueError\u001b[0m                                Traceback (most recent call last)",
      "\u001b[0;32m<ipython-input-6-5ae57d66fa3f>\u001b[0m in \u001b[0;36m<module>\u001b[0;34m\u001b[0m\n\u001b[1;32m      4\u001b[0m \u001b[0;32mfor\u001b[0m \u001b[0mi\u001b[0m \u001b[0;32min\u001b[0m \u001b[0mrange\u001b[0m\u001b[0;34m(\u001b[0m\u001b[0mlen\u001b[0m\u001b[0;34m(\u001b[0m\u001b[0mmeses\u001b[0m\u001b[0;34m)\u001b[0m\u001b[0;34m)\u001b[0m\u001b[0;34m:\u001b[0m\u001b[0;34m\u001b[0m\u001b[0;34m\u001b[0m\u001b[0m\n\u001b[1;32m      5\u001b[0m     \u001b[0mtemp\u001b[0m \u001b[0;34m=\u001b[0m \u001b[0minput\u001b[0m\u001b[0;34m(\u001b[0m\u001b[0;34mf\"Digite a temperatura em {meses[i]}: \"\u001b[0m\u001b[0;34m)\u001b[0m\u001b[0;34m\u001b[0m\u001b[0;34m\u001b[0m\u001b[0m\n\u001b[0;32m----> 6\u001b[0;31m     \u001b[0mtemperaturas\u001b[0m\u001b[0;34m[\u001b[0m\u001b[0mi\u001b[0m\u001b[0;34m]\u001b[0m \u001b[0;34m=\u001b[0m \u001b[0mint\u001b[0m\u001b[0;34m(\u001b[0m\u001b[0mtemp\u001b[0m\u001b[0;34m)\u001b[0m\u001b[0;34m\u001b[0m\u001b[0;34m\u001b[0m\u001b[0m\n\u001b[0m\u001b[1;32m      7\u001b[0m \u001b[0;34m\u001b[0m\u001b[0m\n\u001b[1;32m      8\u001b[0m \u001b[0mmedia\u001b[0m \u001b[0;34m=\u001b[0m \u001b[0msum\u001b[0m\u001b[0;34m(\u001b[0m\u001b[0mtemperaturas\u001b[0m\u001b[0;34m)\u001b[0m \u001b[0;34m/\u001b[0m \u001b[0mlen\u001b[0m\u001b[0;34m(\u001b[0m\u001b[0mmeses\u001b[0m\u001b[0;34m)\u001b[0m\u001b[0;34m\u001b[0m\u001b[0;34m\u001b[0m\u001b[0m\n",
      "\u001b[0;31mValueError\u001b[0m: invalid literal for int() with base 10: ''"
     ]
    }
   ],
   "source": [
    "meses = ['Janeiro', 'Fevereiro', 'Marco', 'Abril', 'Maio', 'Junho', 'Julho', 'Agosto', 'Setembro', 'Outubro', 'Novembro', 'Dezembro']\n",
    "temperaturas = [0] * len(meses)\n",
    "\n",
    "for i in range(len(meses)):\n",
    "    temp = input(f\"Digite a temperatura em {meses[i]}: \")\n",
    "    temperaturas[i] = int(temp)\n",
    "\n",
    "media = sum(temperaturas) / len(meses)\n",
    "\n",
    "print(f\"Temperatura média: {media}\")\n",
    "\n",
    "print(\"Temperaturas acima da média\")\n",
    "for i in range(len(meses)):\n",
    "    if temperaturas[i] > media:\n",
    "        print(f\"{temperaturas[i]} - {meses[i]}\")\n",
    "\n"
   ]
  },
  {
   "cell_type": "markdown",
   "metadata": {},
   "source": [
    "## Exercício 14. \n",
    "Utilizando listas faça um programa que faça 5 perguntas para uma\n",
    "pessoa sobre um crime. As perguntas são:\u0000\n",
    "- \"Telefonou para a vítima?\"\n",
    "- \"Esteve no local do crime?\"\n",
    "- \"Mora perto da vítima?\"\n",
    "- \"Devia para a vítima?\"\n",
    "- \"Já trabalhou com a vítima?\"\n",
    "\n",
    "O programa deve no final emitir uma classificação sobre a participação da pessoa no\n",
    "crime. Se a pessoa responder positivamente a 2 questões ela deve ser classificada\n",
    "como \"Suspeita\", entre 3 e 4 como \"Cúmplice\" e 5 como \"Assassino\". Caso contrário,\n",
    "ele será classificado como \"Inocente\"."
   ]
  },
  {
   "cell_type": "code",
   "execution_count": null,
   "metadata": {},
   "outputs": [
    {
     "name": "stdin",
     "output_type": "stream",
     "text": [
      "Telefonou para a vítima? \n"
     ]
    }
   ],
   "source": [
    "perguntas = [\n",
    "    \"Telefonou para a vítima?\",\n",
    "    \"Esteve no local do crime?\",\n",
    "    \"Mora perto da vítima?\",\n",
    "    \"Devia para a vítima?\",\n",
    "    \"Já trabalhou com a vítima?\"\n",
    "]\n",
    "\n",
    "respostas = [None] * len(perguntas)\n",
    "\n",
    "def main():\n",
    "    for i in range(len(perguntas)):\n",
    "        resposta = input(perguntas[i])\n",
    "        respostas[i] = resposta\n",
    "    \n",
    "    num = respostas.count(\"Sim\")\n",
    "    \n",
    "    \n",
    "    if (num == 2):\n",
    "        print(\"Suspeita\")\n",
    "    elif (num == 3 or num == 4):\n",
    "        print(\"Cúmplice\")\n",
    "    elif (num == 5):\n",
    "        print(\"Assassino\")\n",
    "    else:\n",
    "        print(\"Inocente\")\n",
    "            \n",
    "main()\n",
    "\n"
   ]
  },
  {
   "cell_type": "markdown",
   "metadata": {},
   "source": [
    "## Exercício 15. \n",
    "Faça um programa que leia um número indeterminado de valores,\n",
    "correspondentes a notas, encerrando a entrada de dados quando for informado um\n",
    "valor igual a -1 (que não deve ser armazenado). Após esta entrada de dados, faça:\n",
    "- Mostre a quantidade de valores que foram lidos;\n",
    "- Exiba todos os valores na ordem em que foram informados, um ao lado do outro;\n",
    "- Exiba todos os valores na ordem inversa à que foram informados, um abaixo do\n",
    "outro;\n",
    "- Calcule e mostre a soma dos valores;\n",
    "- Calcule e mostre a média dos valores;\n",
    "- Calcule e mostre a quantidade de valores acima da média calculada;\n",
    "- Calcule e mostre a quantidade de valores abaixo de sete;\n",
    "- Encerre o programa com uma mensagem;"
   ]
  },
  {
   "cell_type": "code",
   "execution_count": null,
   "metadata": {},
   "outputs": [],
   "source": []
  }
 ],
 "metadata": {
  "kernelspec": {
   "display_name": "Python 3",
   "language": "python",
   "name": "python3"
  },
  "language_info": {
   "codemirror_mode": {
    "name": "ipython",
    "version": 3
   },
   "file_extension": ".py",
   "mimetype": "text/x-python",
   "name": "python",
   "nbconvert_exporter": "python",
   "pygments_lexer": "ipython3",
   "version": "3.6.7"
  }
 },
 "nbformat": 4,
 "nbformat_minor": 2
}
