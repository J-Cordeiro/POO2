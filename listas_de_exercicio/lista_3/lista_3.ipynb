{
 "cells": [
  {
   "cell_type": "markdown",
   "metadata": {},
   "source": [
    "# Info\n",
    "## Lista 3\n",
    " **Aluno:**João Pedro Schmidt Cordeiro\n",
    " \n",
    " **Data:** 26/09/2022\n",
    " \n",
    " **Matéria:** Programação Orientada a Objetos 2\n",
    " \n",
    " **Professores:** Jônata Tyska Carvalho e Mateus Grellert da Silva"
   ]
  },
  {
   "cell_type": "markdown",
   "metadata": {},
   "source": [
    "## Exercício 1\n",
    "Escreva uma função que conta a frequência de ocorrência de cada\n",
    "palavra em um texto (arquivo txt) e armazena tal quantidade em um dicionário, onde a\n",
    "chave é a palavra considerada"
   ]
  },
  {
   "cell_type": "code",
   "execution_count": 11,
   "metadata": {},
   "outputs": [
    {
     "name": "stdout",
     "output_type": "stream",
     "text": [
      "{'Texto': 1, 'bem': 1, 'legal': 1, 'que': 2, 'eu': 4, 'criei': 1, 'e': 1, 'vou': 1, 'manifestar': 1, 'esse': 1, 'texto': 1, 'porque': 1, 'sou': 1}\n"
     ]
    }
   ],
   "source": [
    "# with open('arquivo.txt') as f:\n",
    "#     text = f.readlines()\n",
    "\n",
    "## Read the text\n",
    "text = \"Texto bem legal que eu criei e eu que vou manifestar esse texto porque eu sou eu\"\n",
    "\n",
    "list_of_words = text.split()\n",
    "\n",
    "word_count = {}\n",
    "\n",
    "for word in list_of_words:\n",
    "    \n",
    "    if not word in word_count:\n",
    "        word_count[word] = 1\n",
    "    else:\n",
    "        word_count[word] += 1\n",
    "\n",
    "print(word_count)\n"
   ]
  },
  {
   "cell_type": "markdown",
   "metadata": {},
   "source": [
    "## Exercício 2\n",
    "Escreva uma função que apaga do dicionário anterior, todas as palavras\n",
    "que sejam ‘stopwords’. Ver https://gist.github.com/alopes/5358189"
   ]
  },
  {
   "cell_type": "code",
   "execution_count": 25,
   "metadata": {},
   "outputs": [
    {
     "name": "stdout",
     "output_type": "stream",
     "text": [
      "['Texto', 'bem', 'legal', 'que', 'eu', 'criei', 'e', 'vou', 'manifestar', 'esse', 'texto', 'porque', 'sou']\n",
      "{'bem': 1, 'legal': 1, 'que': 2, 'criei': 1, 'vou': 1, 'manifestar': 1, 'esse': 1, 'texto': 1, 'porque': 1, 'sou': 1}\n"
     ]
    }
   ],
   "source": [
    "\n",
    "# with open('stopwords.txt') as f:\n",
    "#     lines = f.readlines()\n",
    "\n",
    "lines = \"Texto du bom eu fiz\"\n",
    "        \n",
    "keys = list(word_count.keys())\n",
    "print(keys)\n",
    "\n",
    "for key in keys:\n",
    "    if key in lines:\n",
    "        word_count.pop(key)\n",
    "        \n",
    "print(word_count)"
   ]
  },
  {
   "cell_type": "markdown",
   "metadata": {},
   "source": [
    "## Exercício 3\n",
    "Escreva um programa que lê duas notas de vários alunos e armazena tais\n",
    "notas em um dicionário, onde a chave é o nome do aluno. A entrada de dados deve\n",
    "terminar quando for lida uma string vazia como nome. Escreva uma função que retorna\n",
    "a média do aluno, dado seu nome."
   ]
  },
  {
   "cell_type": "code",
   "execution_count": 35,
   "metadata": {},
   "outputs": [
    {
     "name": "stdin",
     "output_type": "stream",
     "text": [
      "Insira o nome do aluno para saber a média: João\n"
     ]
    },
    {
     "name": "stdout",
     "output_type": "stream",
     "text": [
      "A média de João é 7.5\n"
     ]
    }
   ],
   "source": [
    "alunos = [\n",
    "    \"João 9 6\",\n",
    "    \"Diana 10 5\",\n",
    "    \"Erik 9 7\",\n",
    "    \"Benedek 6 9\",\n",
    "    \"Henrique 2 7\",\n",
    "    \"\",\n",
    "    \"Daniela 10 4\"\n",
    "]\n",
    "\n",
    "dict_alunos = {}\n",
    "\n",
    "for aluno in alunos:\n",
    "    try:\n",
    "        nome, nota1, nota2 = aluno.split()\n",
    "        media = (int(nota1) + int(nota2)) / 2\n",
    "        dict_alunos[nome] = media\n",
    "    except ValueError as e:\n",
    "#         print(f\"End of the code {e}\")\n",
    "        break\n",
    "        \n",
    "# print(dict_alunos)\n",
    "        \n",
    "nome = input(\"Insira o nome do aluno para saber a média:\")\n",
    "print(f\"A média de {nome} é {dict_alunos[nome]}\")\n",
    "        \n",
    "    "
   ]
  },
  {
   "cell_type": "markdown",
   "metadata": {},
   "source": [
    "## Exercício 4\n",
    "Uma pista de Kart permite 10 voltas para cada um de 6 corredores.\n",
    "Escreva um programa que leia todos os tempos em segundos e os guarde em um\n",
    "dicionário, onde a chave é o nome do corredor. Ao final diga de quem foi a melhor volta\n",
    "da prova e em que volta; e ainda a classificação final em ordem (1o o campeão). O\n",
    "campeão é o que tem a menor média de tempos."
   ]
  },
  {
   "cell_type": "code",
   "execution_count": 11,
   "metadata": {},
   "outputs": [
    {
     "name": "stdin",
     "output_type": "stream",
     "text": [
      "Digite o nome do corredor 1 Jaum\n",
      "Digite o nome do corredor 2 Pedraum\n",
      "Digite o nome do corredor 3 Monica\n",
      "Digite o nome do corredor 4 Jessica\n",
      "Digite o nome do corredor 5 Lia\n",
      "Digite o nome do corredor 6 Manolo\n"
     ]
    },
    {
     "name": "stdout",
     "output_type": "stream",
     "text": [
      "Digite o número de voltas dos corredores:\n"
     ]
    },
    {
     "name": "stdin",
     "output_type": "stream",
     "text": [
      " 12 54 2 36 9 7\n"
     ]
    },
    {
     "name": "stdout",
     "output_type": "stream",
     "text": [
      "Digite o número de voltas dos corredores:\n"
     ]
    },
    {
     "name": "stdin",
     "output_type": "stream",
     "text": [
      " 1 14 52 3 86 4\n"
     ]
    },
    {
     "name": "stdout",
     "output_type": "stream",
     "text": [
      "Digite o número de voltas dos corredores:\n"
     ]
    },
    {
     "name": "stdin",
     "output_type": "stream",
     "text": [
      " 41 5 82 46 3 78\n"
     ]
    },
    {
     "name": "stdout",
     "output_type": "stream",
     "text": [
      "Digite o número de voltas dos corredores:\n"
     ]
    },
    {
     "name": "stdin",
     "output_type": "stream",
     "text": [
      " 14 25 87 98 65 42\n"
     ]
    },
    {
     "name": "stdout",
     "output_type": "stream",
     "text": [
      "Digite o número de voltas dos corredores:\n"
     ]
    },
    {
     "name": "stdin",
     "output_type": "stream",
     "text": [
      " 41 52 68 32 54 1\n"
     ]
    },
    {
     "name": "stdout",
     "output_type": "stream",
     "text": [
      "Digite o número de voltas dos corredores:\n"
     ]
    },
    {
     "name": "stdin",
     "output_type": "stream",
     "text": [
      " 14 23 25 46 35 14\n"
     ]
    },
    {
     "name": "stdout",
     "output_type": "stream",
     "text": [
      "Digite o número de voltas dos corredores:\n"
     ]
    },
    {
     "name": "stdin",
     "output_type": "stream",
     "text": [
      " 41 52 68 32 54 1\n"
     ]
    },
    {
     "name": "stdout",
     "output_type": "stream",
     "text": [
      "Digite o número de voltas dos corredores:\n"
     ]
    },
    {
     "name": "stdin",
     "output_type": "stream",
     "text": [
      " 41 52 68 32 54 1\n"
     ]
    },
    {
     "name": "stdout",
     "output_type": "stream",
     "text": [
      "Digite o número de voltas dos corredores:\n"
     ]
    },
    {
     "name": "stdin",
     "output_type": "stream",
     "text": [
      " 41 52 68 32 54 1\n"
     ]
    },
    {
     "name": "stdout",
     "output_type": "stream",
     "text": [
      "Digite o número de voltas dos corredores:\n"
     ]
    },
    {
     "name": "stdin",
     "output_type": "stream",
     "text": [
      " 41 52 68 32 54 1\n"
     ]
    },
    {
     "name": "stdout",
     "output_type": "stream",
     "text": [
      "A melhor volta foi feita por Jaum, foi a volta 1 no tempo de 1\n",
      "O ganhador foi Manolo\n",
      "\n",
      "Classificação\n",
      "-- Manolo\n",
      "-- Jaum\n",
      "-- Pedraum\n",
      "-- Jessica\n",
      "-- Lia\n",
      "-- Monica\n"
     ]
    }
   ],
   "source": [
    "num_de_corredores = 6\n",
    "num_de_voltas = 10\n",
    "corredores = {}\n",
    "dict_media = {}\n",
    "final = {}\n",
    "list_menor_volta = []\n",
    "first = 1\n",
    "\n",
    "for i in range(num_de_corredores):\n",
    "    nome = input(f\"Digite o nome do corredor {i + 1}\")\n",
    "    corredores[nome] = []\n",
    "\n",
    "for i in range(num_de_voltas):\n",
    "    print(\"Digite o número de voltas dos corredores:\")\n",
    "    keys = corredores.keys()\n",
    "    tempos = list(map(int, input().split()))\n",
    "    \n",
    "    for j in range(len(keys)):\n",
    "        key = list(keys)[j]\n",
    "        corredores[key].append(tempos[j])\n",
    "        if first:\n",
    "            list_menor_volta = [key, tempos[j], j+1]\n",
    "            first = 0\n",
    "        elif tempos[j] < list_menor_volta[1]:\n",
    "            list_menor_volta = [key, tempos[j], j+1]\n",
    "        \n",
    "for key in corredores.keys():\n",
    "    soma_dos_valores = sum(corredores[key])\n",
    "    media = soma_dos_valores / num_de_voltas\n",
    "    \n",
    "    dict_media[key] = media\n",
    "\n",
    "            \n",
    "print(f\"A melhor volta foi feita por {list_menor_volta[0]}, foi a volta {list_menor_volta[2] + 1} no tempo de {list_menor_volta[1]}\")\n",
    "\n",
    "\n",
    "sorted_media = dict(sorted(dict_media.items(), key=lambda item: item[1]))\n",
    "sorted_key = list(sorted_media.keys())\n",
    "\n",
    "print(f\"O ganhador foi {sorted_key[0]}\")\n",
    "\n",
    "print(\"\\nClassificação\")\n",
    "for name in sorted_key:\n",
    "    print(f\"-- {name}\")"
   ]
  },
  {
   "cell_type": "markdown",
   "metadata": {},
   "source": [
    "## Exercício 5\n",
    "Escreva um programa para armazenar uma agenda de telefones usando\n",
    "um dicionário. Cada pessoa pode ter um ou mais telefones e a chave do dicionário é o\n",
    "nome completo da pessoa. Seu programa deve ter as seguintes funções:\n",
    "- incluir_novo_nome – essa função acrescenta um novo nome na agenda, com\n",
    "um ou mais telefones. Ela deve receber como argumentos o nome e os telefones.\n",
    "- incluir_telefone – essa função acrescenta um telefone em um nome existente na\n",
    "agenda. Caso o nome não exista na agenda, você deve perguntar se a pessoa deseja\n",
    "incluí-lo. Caso a resposta seja afirmativa, use a função anterior para incluir o novo\n",
    "nome.\n",
    "- excluir_telefone – essa função exclui um telefone de uma pessoa que\n",
    "já está na agenda. Se a pessoa tiver apenas um telefone, ela deve ser excluída da\n",
    "agenda.\n",
    "- excluir_nome – essa função exclui uma pessoa da agenda.\n",
    "- consultar_telefone – essa função retorna os telefones de uma pessoa\n",
    "na agenda."
   ]
  },
  {
   "cell_type": "code",
   "execution_count": 14,
   "metadata": {},
   "outputs": [
    {
     "name": "stdout",
     "output_type": "stream",
     "text": [
      "Digite 0 para ver a agenda\n",
      "Digite 1 para incluir um novo nome\n",
      "Digite 2 para incluir um telefone\n",
      "Digite 3 para excluir um telefone\n",
      "Digite 4 para excluir nome\n",
      "Digite 5 para consultar o telefone\n"
     ]
    },
    {
     "name": "stdin",
     "output_type": "stream",
     "text": [
      " 1\n",
      "Digite o nome: jo\n",
      "Digite os telefones separado por espaços: 48\n"
     ]
    },
    {
     "name": "stdout",
     "output_type": "stream",
     "text": [
      "Digite 0 para ver a agenda\n",
      "Digite 1 para incluir um novo nome\n",
      "Digite 2 para incluir um telefone\n",
      "Digite 3 para excluir um telefone\n",
      "Digite 4 para excluir nome\n",
      "Digite 5 para consultar o telefone\n"
     ]
    },
    {
     "name": "stdin",
     "output_type": "stream",
     "text": [
      " 5\n",
      "Digite o nome: jo\n"
     ]
    },
    {
     "name": "stdout",
     "output_type": "stream",
     "text": [
      "['48']\n",
      "Digite 0 para ver a agenda\n",
      "Digite 1 para incluir um novo nome\n",
      "Digite 2 para incluir um telefone\n",
      "Digite 3 para excluir um telefone\n",
      "Digite 4 para excluir nome\n",
      "Digite 5 para consultar o telefone\n"
     ]
    },
    {
     "name": "stdin",
     "output_type": "stream",
     "text": [
      " 4\n",
      "Digite o nome: jo\n"
     ]
    },
    {
     "name": "stdout",
     "output_type": "stream",
     "text": [
      "Digite 0 para ver a agenda\n",
      "Digite 1 para incluir um novo nome\n",
      "Digite 2 para incluir um telefone\n",
      "Digite 3 para excluir um telefone\n",
      "Digite 4 para excluir nome\n",
      "Digite 5 para consultar o telefone\n"
     ]
    },
    {
     "name": "stdin",
     "output_type": "stream",
     "text": [
      " 0\n"
     ]
    },
    {
     "name": "stdout",
     "output_type": "stream",
     "text": [
      "{}\n",
      "Digite 0 para ver a agenda\n",
      "Digite 1 para incluir um novo nome\n",
      "Digite 2 para incluir um telefone\n",
      "Digite 3 para excluir um telefone\n",
      "Digite 4 para excluir nome\n",
      "Digite 5 para consultar o telefone\n"
     ]
    },
    {
     "ename": "KeyboardInterrupt",
     "evalue": "",
     "output_type": "error",
     "traceback": [
      "\u001b[0;31m---------------------------------------------------------------------------\u001b[0m",
      "\u001b[0;31mKeyboardInterrupt\u001b[0m                         Traceback (most recent call last)",
      "\u001b[0;32m/opt/tljh/user/lib/python3.6/site-packages/ipykernel/kernelbase.py\u001b[0m in \u001b[0;36m_input_request\u001b[0;34m(self, prompt, ident, parent, password)\u001b[0m\n\u001b[1;32m    883\u001b[0m             \u001b[0;32mtry\u001b[0m\u001b[0;34m:\u001b[0m\u001b[0;34m\u001b[0m\u001b[0;34m\u001b[0m\u001b[0m\n\u001b[0;32m--> 884\u001b[0;31m                 \u001b[0mident\u001b[0m\u001b[0;34m,\u001b[0m \u001b[0mreply\u001b[0m \u001b[0;34m=\u001b[0m \u001b[0mself\u001b[0m\u001b[0;34m.\u001b[0m\u001b[0msession\u001b[0m\u001b[0;34m.\u001b[0m\u001b[0mrecv\u001b[0m\u001b[0;34m(\u001b[0m\u001b[0mself\u001b[0m\u001b[0;34m.\u001b[0m\u001b[0mstdin_socket\u001b[0m\u001b[0;34m,\u001b[0m \u001b[0;36m0\u001b[0m\u001b[0;34m)\u001b[0m\u001b[0;34m\u001b[0m\u001b[0;34m\u001b[0m\u001b[0m\n\u001b[0m\u001b[1;32m    885\u001b[0m             \u001b[0;32mexcept\u001b[0m \u001b[0mException\u001b[0m\u001b[0;34m:\u001b[0m\u001b[0;34m\u001b[0m\u001b[0;34m\u001b[0m\u001b[0m\n",
      "\u001b[0;32m/opt/tljh/user/lib/python3.6/site-packages/jupyter_client/session.py\u001b[0m in \u001b[0;36mrecv\u001b[0;34m(self, socket, mode, content, copy)\u001b[0m\n\u001b[1;32m    802\u001b[0m         \u001b[0;32mtry\u001b[0m\u001b[0;34m:\u001b[0m\u001b[0;34m\u001b[0m\u001b[0;34m\u001b[0m\u001b[0m\n\u001b[0;32m--> 803\u001b[0;31m             \u001b[0mmsg_list\u001b[0m \u001b[0;34m=\u001b[0m \u001b[0msocket\u001b[0m\u001b[0;34m.\u001b[0m\u001b[0mrecv_multipart\u001b[0m\u001b[0;34m(\u001b[0m\u001b[0mmode\u001b[0m\u001b[0;34m,\u001b[0m \u001b[0mcopy\u001b[0m\u001b[0;34m=\u001b[0m\u001b[0mcopy\u001b[0m\u001b[0;34m)\u001b[0m\u001b[0;34m\u001b[0m\u001b[0;34m\u001b[0m\u001b[0m\n\u001b[0m\u001b[1;32m    804\u001b[0m         \u001b[0;32mexcept\u001b[0m \u001b[0mzmq\u001b[0m\u001b[0;34m.\u001b[0m\u001b[0mZMQError\u001b[0m \u001b[0;32mas\u001b[0m \u001b[0me\u001b[0m\u001b[0;34m:\u001b[0m\u001b[0;34m\u001b[0m\u001b[0;34m\u001b[0m\u001b[0m\n",
      "\u001b[0;32m/opt/tljh/user/lib/python3.6/site-packages/zmq/sugar/socket.py\u001b[0m in \u001b[0;36mrecv_multipart\u001b[0;34m(self, flags, copy, track)\u001b[0m\n\u001b[1;32m    474\u001b[0m         \"\"\"\n\u001b[0;32m--> 475\u001b[0;31m         \u001b[0mparts\u001b[0m \u001b[0;34m=\u001b[0m \u001b[0;34m[\u001b[0m\u001b[0mself\u001b[0m\u001b[0;34m.\u001b[0m\u001b[0mrecv\u001b[0m\u001b[0;34m(\u001b[0m\u001b[0mflags\u001b[0m\u001b[0;34m,\u001b[0m \u001b[0mcopy\u001b[0m\u001b[0;34m=\u001b[0m\u001b[0mcopy\u001b[0m\u001b[0;34m,\u001b[0m \u001b[0mtrack\u001b[0m\u001b[0;34m=\u001b[0m\u001b[0mtrack\u001b[0m\u001b[0;34m)\u001b[0m\u001b[0;34m]\u001b[0m\u001b[0;34m\u001b[0m\u001b[0;34m\u001b[0m\u001b[0m\n\u001b[0m\u001b[1;32m    476\u001b[0m         \u001b[0;31m# have first part already, only loop while more to receive\u001b[0m\u001b[0;34m\u001b[0m\u001b[0;34m\u001b[0m\u001b[0;34m\u001b[0m\u001b[0m\n",
      "\u001b[0;32mzmq/backend/cython/socket.pyx\u001b[0m in \u001b[0;36mzmq.backend.cython.socket.Socket.recv\u001b[0;34m()\u001b[0m\n",
      "\u001b[0;32mzmq/backend/cython/socket.pyx\u001b[0m in \u001b[0;36mzmq.backend.cython.socket.Socket.recv\u001b[0;34m()\u001b[0m\n",
      "\u001b[0;32mzmq/backend/cython/socket.pyx\u001b[0m in \u001b[0;36mzmq.backend.cython.socket._recv_copy\u001b[0;34m()\u001b[0m\n",
      "\u001b[0;32m/opt/tljh/user/lib/python3.6/site-packages/zmq/backend/cython/checkrc.pxd\u001b[0m in \u001b[0;36mzmq.backend.cython.checkrc._check_rc\u001b[0;34m()\u001b[0m\n",
      "\u001b[0;31mKeyboardInterrupt\u001b[0m: ",
      "\nDuring handling of the above exception, another exception occurred:\n",
      "\u001b[0;31mKeyboardInterrupt\u001b[0m                         Traceback (most recent call last)",
      "\u001b[0;32m<ipython-input-14-ad9b44efd771>\u001b[0m in \u001b[0;36m<module>\u001b[0;34m\u001b[0m\n\u001b[1;32m     74\u001b[0m \u001b[0;34m\u001b[0m\u001b[0m\n\u001b[1;32m     75\u001b[0m \u001b[0;32mwhile\u001b[0m \u001b[0;32mTrue\u001b[0m\u001b[0;34m:\u001b[0m\u001b[0;34m\u001b[0m\u001b[0;34m\u001b[0m\u001b[0m\n\u001b[0;32m---> 76\u001b[0;31m     \u001b[0mmenu\u001b[0m\u001b[0;34m.\u001b[0m\u001b[0mopcoes\u001b[0m\u001b[0;34m(\u001b[0m\u001b[0;34m)\u001b[0m\u001b[0;34m\u001b[0m\u001b[0;34m\u001b[0m\u001b[0m\n\u001b[0m",
      "\u001b[0;32m<ipython-input-14-ad9b44efd771>\u001b[0m in \u001b[0;36mopcoes\u001b[0;34m(self)\u001b[0m\n\u001b[1;32m     48\u001b[0m         \u001b[0mprint\u001b[0m\u001b[0;34m(\u001b[0m\u001b[0;34m\"Digite 5 para consultar o telefone\"\u001b[0m\u001b[0;34m)\u001b[0m\u001b[0;34m\u001b[0m\u001b[0;34m\u001b[0m\u001b[0m\n\u001b[1;32m     49\u001b[0m \u001b[0;34m\u001b[0m\u001b[0m\n\u001b[0;32m---> 50\u001b[0;31m         \u001b[0mop\u001b[0m \u001b[0;34m=\u001b[0m \u001b[0mint\u001b[0m\u001b[0;34m(\u001b[0m\u001b[0minput\u001b[0m\u001b[0;34m(\u001b[0m\u001b[0;34m)\u001b[0m\u001b[0;34m)\u001b[0m\u001b[0;34m\u001b[0m\u001b[0;34m\u001b[0m\u001b[0m\n\u001b[0m\u001b[1;32m     51\u001b[0m         \u001b[0;32mif\u001b[0m \u001b[0mop\u001b[0m \u001b[0;34m==\u001b[0m \u001b[0;36m0\u001b[0m\u001b[0;34m:\u001b[0m\u001b[0;34m\u001b[0m\u001b[0;34m\u001b[0m\u001b[0m\n\u001b[1;32m     52\u001b[0m             \u001b[0mprint\u001b[0m\u001b[0;34m(\u001b[0m\u001b[0mself\u001b[0m\u001b[0;34m.\u001b[0m\u001b[0m__agenda\u001b[0m\u001b[0;34m.\u001b[0m\u001b[0mget_agenda\u001b[0m\u001b[0;34m(\u001b[0m\u001b[0;34m)\u001b[0m\u001b[0;34m)\u001b[0m\u001b[0;34m\u001b[0m\u001b[0;34m\u001b[0m\u001b[0m\n",
      "\u001b[0;32m/opt/tljh/user/lib/python3.6/site-packages/ipykernel/kernelbase.py\u001b[0m in \u001b[0;36mraw_input\u001b[0;34m(self, prompt)\u001b[0m\n\u001b[1;32m    857\u001b[0m             \u001b[0mself\u001b[0m\u001b[0;34m.\u001b[0m\u001b[0m_parent_ident\u001b[0m\u001b[0;34m,\u001b[0m\u001b[0;34m\u001b[0m\u001b[0;34m\u001b[0m\u001b[0m\n\u001b[1;32m    858\u001b[0m             \u001b[0mself\u001b[0m\u001b[0;34m.\u001b[0m\u001b[0m_parent_header\u001b[0m\u001b[0;34m,\u001b[0m\u001b[0;34m\u001b[0m\u001b[0;34m\u001b[0m\u001b[0m\n\u001b[0;32m--> 859\u001b[0;31m             \u001b[0mpassword\u001b[0m\u001b[0;34m=\u001b[0m\u001b[0;32mFalse\u001b[0m\u001b[0;34m,\u001b[0m\u001b[0;34m\u001b[0m\u001b[0;34m\u001b[0m\u001b[0m\n\u001b[0m\u001b[1;32m    860\u001b[0m         )\n\u001b[1;32m    861\u001b[0m \u001b[0;34m\u001b[0m\u001b[0m\n",
      "\u001b[0;32m/opt/tljh/user/lib/python3.6/site-packages/ipykernel/kernelbase.py\u001b[0m in \u001b[0;36m_input_request\u001b[0;34m(self, prompt, ident, parent, password)\u001b[0m\n\u001b[1;32m    887\u001b[0m             \u001b[0;32mexcept\u001b[0m \u001b[0mKeyboardInterrupt\u001b[0m\u001b[0;34m:\u001b[0m\u001b[0;34m\u001b[0m\u001b[0;34m\u001b[0m\u001b[0m\n\u001b[1;32m    888\u001b[0m                 \u001b[0;31m# re-raise KeyboardInterrupt, to truncate traceback\u001b[0m\u001b[0;34m\u001b[0m\u001b[0;34m\u001b[0m\u001b[0;34m\u001b[0m\u001b[0m\n\u001b[0;32m--> 889\u001b[0;31m                 \u001b[0;32mraise\u001b[0m \u001b[0mKeyboardInterrupt\u001b[0m\u001b[0;34m\u001b[0m\u001b[0;34m\u001b[0m\u001b[0m\n\u001b[0m\u001b[1;32m    890\u001b[0m             \u001b[0;32melse\u001b[0m\u001b[0;34m:\u001b[0m\u001b[0;34m\u001b[0m\u001b[0;34m\u001b[0m\u001b[0m\n\u001b[1;32m    891\u001b[0m                 \u001b[0;32mbreak\u001b[0m\u001b[0;34m\u001b[0m\u001b[0;34m\u001b[0m\u001b[0m\n",
      "\u001b[0;31mKeyboardInterrupt\u001b[0m: "
     ]
    }
   ],
   "source": [
    "\n",
    "class Agenda:\n",
    "    \n",
    "    def __init__(self):\n",
    "        self.__agenda = {}\n",
    "        \n",
    "    def get_agenda(self):\n",
    "        return self.__agenda\n",
    "    \n",
    "    def incluir_novo_nome (self, nome, telefones):\n",
    "        self.__agenda[nome] = telefones.split()\n",
    "\n",
    "    def incluir_telefone (self, nome, telefone):\n",
    "        if nome in self.__agenda:\n",
    "            self.__agenda[nome].append(telefone)\n",
    "        else:\n",
    "            i = input(\"O nome não está na agenda, digite 1 para incluí-lo: \")\n",
    "            if i == \"1\":\n",
    "                self.incluir_novo_nome(nome, telefone)\n",
    "                \n",
    "    def excluir_telefone(self, nome, telefone):\n",
    "        if nome in self.__agenda:\n",
    "            self.__agenda[nome].remove(telefone)\n",
    "            if len(self.__agenda[nome]) == 0:\n",
    "                self.__agenda.pop(nome)\n",
    "        else:\n",
    "            print(\"Nome não está na agenda\")\n",
    "            \n",
    "    def excluir_nome(self, nome):\n",
    "        if nome in self.__agenda:\n",
    "            self.__agenda.pop(nome)\n",
    "        else:\n",
    "            print(\"Nome inserido não está na agenda\")\n",
    "    \n",
    "    def consultar_telefone(self, nome):\n",
    "        return self.__agenda[nome]\n",
    "            \n",
    "class Menu:\n",
    "    def __init__(self):\n",
    "        self.__agenda = Agenda()\n",
    "        \n",
    "        \n",
    "    def opcoes(self):\n",
    "        print(\"Digite 0 para ver a agenda\")\n",
    "        print(\"Digite 1 para incluir um novo nome\")\n",
    "        print(\"Digite 2 para incluir um telefone\")\n",
    "        print(\"Digite 3 para excluir um telefone\")\n",
    "        print(\"Digite 4 para excluir nome\")\n",
    "        print(\"Digite 5 para consultar o telefone\")\n",
    "        \n",
    "        op = int(input())\n",
    "        if op == 0:\n",
    "            print(self.__agenda.get_agenda())\n",
    "        elif op == 1:\n",
    "            nome = input(\"Digite o nome:\")\n",
    "            telefones = input(\"Digite os telefones separado por espaços:\")\n",
    "            self.__agenda.incluir_novo_nome(nome, telefones)\n",
    "        elif op == 2:\n",
    "            nome = input(\"Digite o nome:\")\n",
    "            telefone = input(\"Digite o telefone:\")\n",
    "            self.__agenda.incluir_telefone(nome, telefone)\n",
    "        elif op == 3:\n",
    "            nome = input(\"Digite o nome:\")\n",
    "            telefone = input(\"Digite o telefone:\")\n",
    "            self.__agenda.excluir_telefone(nome, telefone)\n",
    "        elif op == 4:\n",
    "            nome = input(\"Digite o nome:\")\n",
    "            self.__agenda.excluir_nome(nome)\n",
    "        elif op == 5:\n",
    "            nome = input(\"Digite o nome:\")\n",
    "            print(self.__agenda.consultar_telefone(nome))\n",
    "        \n",
    "        \n",
    "menu = Menu()\n",
    "\n",
    "while True:\n",
    "    menu.opcoes()"
   ]
  },
  {
   "cell_type": "code",
   "execution_count": null,
   "metadata": {},
   "outputs": [],
   "source": []
  }
 ],
 "metadata": {
  "kernelspec": {
   "display_name": "Python 3",
   "language": "python",
   "name": "python3"
  },
  "language_info": {
   "codemirror_mode": {
    "name": "ipython",
    "version": 3
   },
   "file_extension": ".py",
   "mimetype": "text/x-python",
   "name": "python",
   "nbconvert_exporter": "python",
   "pygments_lexer": "ipython3",
   "version": "3.6.7"
  }
 },
 "nbformat": 4,
 "nbformat_minor": 2
}
