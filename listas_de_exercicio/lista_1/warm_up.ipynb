{
 "cells": [
  {
   "cell_type": "markdown",
   "metadata": {},
   "source": [
    "# Lista de Exercícios 1 - POO-II - INE5404\n",
    "\n",
    "## Warm up ##\n"
   ]
  },
  {
   "cell_type": "markdown",
   "metadata": {},
   "source": [
    "---\n",
    "## Warm up 1\n",
    "\n",
    "Crie a classe Televisao com os atributos ligada (inicializado com valor False) e canal\n",
    "(inicializado com valor 2)."
   ]
  },
  {
   "cell_type": "code",
   "execution_count": 6,
   "metadata": {},
   "outputs": [],
   "source": [
    "\n",
    "class Televisao:\n",
    "    def __init__(self, tamanho: int, marca: str):\n",
    "        self.ligada = False\n",
    "        self.canal = 2\n",
    "\n",
    "        "
   ]
  },
  {
   "cell_type": "markdown",
   "metadata": {},
   "source": [
    "---\n",
    "## Warm up 2\n",
    "\n",
    "Adicione os atributos tamanho e marca à classe Televisao. Crie dois objetos Televisao e\n",
    "atribua tamanhos e marcas diferentes. Depois, imprima o valor desses atributos de\n",
    "forma a confirmar independência dos valores de cada instância (objeto)."
   ]
  },
  {
   "cell_type": "code",
   "execution_count": 9,
   "metadata": {},
   "outputs": [
    {
     "name": "stdout",
     "output_type": "stream",
     "text": [
      "TV1 Tamanho: 5 Marca: LG\n",
      "TV2 Tamanho: 7 Marca: Samsung\n"
     ]
    }
   ],
   "source": [
    "\n",
    "class Televisao: \n",
    "    def __init__(self, tamanho: int, marca: str): \n",
    "        self.ligada = False \n",
    "        self.canal = 2 \n",
    "        self.tamanho = tamanho \n",
    "        self.marca = marca \n",
    "    \n",
    "\n",
    "def main():\n",
    "    tv1 = Televisao(5, \"LG\")\n",
    "    tv2 = Televisao(7, \"Samsung\")\n",
    "    \n",
    "    print(f\"TV1 Tamanho: {tv1.tamanho} Marca: {tv1.marca}\")\n",
    "    print(f\"TV2 Tamanho: {tv2.tamanho} Marca: {tv2.marca}\")\n",
    "\n",
    "main()\n",
    "\n",
    "        "
   ]
  },
  {
   "cell_type": "markdown",
   "metadata": {},
   "source": [
    "---\n",
    "## Warm up 3\n",
    "\n",
    "Adicione dois novos métodos muda_canal_para_cima e muda_canal_para_baixo.\n",
    "Atualmente, a classe Televisao inicializa o canal com 2. Modifique a classe televisao de\n",
    "forma a receber o canal inicial em seu construtor."
   ]
  },
  {
   "cell_type": "code",
   "execution_count": 10,
   "metadata": {},
   "outputs": [],
   "source": [
    "\n",
    "class Televisao: \n",
    "    def __init__(self, canal: int, tamanho: int, marca: str): \n",
    "        self.ligada = False \n",
    "        self.canal = canal \n",
    "        self.tamanho = tamanho \n",
    "        self.marca = marca \n",
    "    \n",
    "    def muda_canal_para_cima(self):\n",
    "        self.canal += 1\n",
    "        \n",
    "    def muda_canal_para_baixo(self):\n",
    "        self.canal -= 1\n",
    "        \n",
    "def main():\n",
    "    pass\n",
    "\n",
    "main()\n",
    "\n",
    "        "
   ]
  },
  {
   "cell_type": "markdown",
   "metadata": {},
   "source": [
    "---\n",
    "## Warm up 4\n",
    "\n",
    "Adicione mais dois atributos canal_minimo (valor padrão 1) e canal_maximo (valor\n",
    "padrão 99) e modifique a classe Televisao de forma que, se pedirmos para mudar o\n",
    "canal para baixo, além do mínimo, ela vá para o canal máximo. Se mudarmos para\n",
    "cima, além do canal máximo, que volte ao canal mínimo"
   ]
  },
  {
   "cell_type": "code",
   "execution_count": 12,
   "metadata": {},
   "outputs": [],
   "source": [
    "class Televisao: \n",
    "    def __init__(self, canal: int, tamanho: int, marca: str): \n",
    "        self.ligada = False \n",
    "        self.canal = canal \n",
    "        self.canal_minimo = 1\n",
    "        self.canal_maximo = 99\n",
    "        self.tamanho = tamanho \n",
    "        self.marca = marca \n",
    "    \n",
    "    def muda_canal_para_cima(self):\n",
    "        if self.canal == self.canal_maximo:\n",
    "            return\n",
    "        self.canal += 1\n",
    "        \n",
    "    def muda_canal_para_baixo(self):\n",
    "        if self.canal == self.canal_minimo:\n",
    "            return\n",
    "        self.canal -= 1\n",
    "        \n",
    "def main():\n",
    "    pass\n",
    "\n",
    "main()\n"
   ]
  },
  {
   "cell_type": "markdown",
   "metadata": {},
   "source": [
    "---\n",
    "\n",
    "## Warm up 5\n",
    "\n",
    "Modifique o construtor da classe Televisao de forma que canal_minimo e canal_maximo\n",
    "seja parametros opcionais valendo respectivamente 2 e 14."
   ]
  },
  {
   "cell_type": "code",
   "execution_count": 14,
   "metadata": {},
   "outputs": [],
   "source": [
    "class Televisao: \n",
    "    def __init__(self, canal: int, canal_minimo=2, canal_maximo=14, tamanho: int, marca: str): \n",
    "        self.ligada = False \n",
    "        self.canal = canal \n",
    "        self.canal_minimo = canal_minimo\n",
    "        self.canal_maximo = canal_maximo\n",
    "        self.tamanho = tamanho \n",
    "        self.marca = marca \n",
    "    \n",
    "    def muda_canal_para_cima(self):\n",
    "        if self.canal == self.canal_maximo:\n",
    "            return\n",
    "        self.canal += 1\n",
    "        \n",
    "    def muda_canal_para_baixo(self):\n",
    "        if self.canal == self.canal_minimo:\n",
    "            return\n",
    "        self.canal -= 1\n",
    "        \n",
    "def main():\n",
    "    pass\n",
    "\n",
    "main()\n",
    "\n"
   ]
  },
  {
   "cell_type": "markdown",
   "metadata": {},
   "source": [
    "---\n",
    "## Warm up 6\n",
    "\n",
    "Crie duas instancias de Televisao, especificando o valor de canal_minimo e\n",
    "canal_maximo por nome."
   ]
  },
  {
   "cell_type": "code",
   "execution_count": null,
   "metadata": {},
   "outputs": [],
   "source": [
    "class Televisao: \n",
    "    def __init__(self, canal: int, canal_minimo=2, canal_maximo=14, tamanho: int, marca: str): \n",
    "        self.ligada = False \n",
    "        self.canal = canal \n",
    "        self.canal_minimo = canal_minimo\n",
    "        self.canal_maximo = canal_maximo\n",
    "        self.tamanho = tamanho \n",
    "        self.marca = marca \n",
    "    \n",
    "    def muda_canal_para_cima(self):\n",
    "        if self.canal == self.canal_maximo:\n",
    "            return\n",
    "        self.canal += 1\n",
    "        \n",
    "    def muda_canal_para_baixo(self):\n",
    "        if self.canal == self.canal_minimo:\n",
    "            return\n",
    "        self.canal -= 1\n",
    "        \n",
    "def main():\n",
    "    pass\n",
    "\n",
    "main()\n",
    "\n"
   ]
  },
  {
   "cell_type": "markdown",
   "metadata": {},
   "source": [
    "---\n",
    "## Warm up 7\n",
    "\n",
    "Crie classes para representar estados e cidades. Cada estado tem um nome, sigla e\n",
    "cidades. Cada cidade tem nome e população. Escreva um programa de testes que crie\n",
    "três estados com algumas cidades em cada um. Exiba a população de cada estado\n",
    "como a soma da população de suas cidades."
   ]
  },
  {
   "cell_type": "code",
   "execution_count": 19,
   "metadata": {},
   "outputs": [
    {
     "name": "stdout",
     "output_type": "stream",
     "text": [
      "22500\n"
     ]
    }
   ],
   "source": [
    "class Cidade:\n",
    "    def __init__(self, nome: str, populacao: int):\n",
    "        self.nome = nome\n",
    "        self.populacao = populacao\n",
    "\n",
    "class Estado:\n",
    "    def __init__(self, nome: str, sigla: str, cidades=[]):\n",
    "        self.nome = nome\n",
    "        self.sigla = sigla\n",
    "        self.cidades = cidades\n",
    "        self.__populacao = 0\n",
    "    \n",
    "    def declarar_cidade(self, cidade: Cidade):\n",
    "        self.cidades.append(cidade)\n",
    "        self.calcular_populacao()\n",
    "        \n",
    "    def calcular_populacao(self):\n",
    "        populacao_estado = 0\n",
    "        for cidade in self.cidades:\n",
    "            populacao_estado += cidade.populacao\n",
    "        self.__populacao = populacao_estado\n",
    "        \n",
    "    @property\n",
    "    def populacao(self):\n",
    "        return self.__populacao\n",
    "        \n",
    "cidade1 = Cidade(\"Floripa\", 15000)\n",
    "cidade2 = Cidade(\"Concórdia\", 3000)\n",
    "cidade3 = Cidade(\"Tubarão\", 4500)\n",
    "        \n",
    "sc = Estado(\"Santa Catarina\", \"SC\")\n",
    "sc.declarar_cidade(cidade1)\n",
    "sc.declarar_cidade(cidade2)\n",
    "sc.declarar_cidade(cidade3)\n",
    "\n",
    "print(sc.populacao)\n",
    "        \n",
    "\n"
   ]
  },
  {
   "cell_type": "markdown",
   "metadata": {},
   "source": [
    "---\n",
    "## Warm up 8\n",
    "\n",
    "Escreva uma classe Coordenada com atributos x e y, e métodos para mostrar as\n",
    "coordenadas, calcular a distancia para outra coordenada, comparar coordenadas,\n",
    "mostrar no formato coordenada polar."
   ]
  },
  {
   "cell_type": "code",
   "execution_count": 4,
   "metadata": {},
   "outputs": [
    {
     "name": "stdout",
     "output_type": "stream",
     "text": [
      "2.0\n",
      "As coordenadas são R: 1.4142135623730951 e A: 0.7853981633974483\n"
     ]
    }
   ],
   "source": [
    "from math import sqrt, atan\n",
    "\n",
    "class Coordenada:\n",
    "    def __init__(self, x: int, y: int):\n",
    "        self.__x = x\n",
    "        self.__y = y\n",
    "    \n",
    "    @property\n",
    "    def x(self):\n",
    "        return self.__x\n",
    "\n",
    "    @property\n",
    "    def y(self):\n",
    "        return self.__y\n",
    "    \n",
    "    def mostrar_coordenadas (self):\n",
    "        print(f\"As coordenadas são X: {self.__x} e Y: {self.__y}\")\n",
    "    \n",
    "    def calcular_distancia(self, coordenada):\n",
    "        x2 = coordenada.x\n",
    "        y2 = coordenada.y\n",
    "        \n",
    "        distancia = sqrt(pow((self.__x - x2),2) + pow((self.__y - y2), 2))\n",
    "        print(distancia)\n",
    "        \n",
    "    def mostrar_polar (self):\n",
    "        r = sqrt(pow(self.__x, 2) + pow(self.__y, 2))\n",
    "        a = atan(self.__y / self.__x)\n",
    "        \n",
    "        print(f\"As coordenadas são R: {r} e A: {a}\")\n",
    "        \n",
    "        \n",
    "def main():\n",
    "    c1 = Coordenada(1, 1)\n",
    "    c2 = Coordenada(3, 1)\n",
    "    \n",
    "    c1.calcular_distancia(c2)\n",
    "    c1.mostrar_polar()\n",
    "    \n",
    "    \n",
    "main()\n",
    "    \n",
    "    "
   ]
  },
  {
   "cell_type": "markdown",
   "metadata": {},
   "source": [
    "---\n",
    "## Warm up 9\n",
    "\n",
    "Escreva classes para as seguintes formas: quadrado, retângulo e círculo."
   ]
  },
  {
   "cell_type": "code",
   "execution_count": null,
   "metadata": {},
   "outputs": [],
   "source": [
    "class Quadrado:\n",
    "    def __init__(self):\n",
    "        pass\n",
    "\n",
    "class Retangulo:\n",
    "    def __init__(self):\n",
    "        pass\n",
    "\n",
    "class Circulo:\n",
    "    def __init__(self):\n",
    "        pass"
   ]
  },
  {
   "cell_type": "markdown",
   "metadata": {},
   "source": [
    "---\n",
    "## Warm up 10\n",
    "\n",
    "Escreva uma classe Fracao que armazena dois inteiros, numerador e denominador.\n",
    ">- a) Implemente metodos para somas, subtração, multiplicação e divisão de duas\n",
    "frações\n",
    ">- b) Implemente o método que imprime uma fração no formato numerador /\n",
    "denominador\n",
    ">- c) Implemente um método que inverte a fração\n",
    ">- d) Implemente um método que retorna a fração em valor real\n",
    ">- e) Implemente um método que cria uma fração (numerador/denominador) a partir\n",
    "de um número real"
   ]
  },
  {
   "cell_type": "code",
   "execution_count": 15,
   "metadata": {},
   "outputs": [
    {
     "name": "stdout",
     "output_type": "stream",
     "text": [
      "Divisão resultou em 1 / 4\n",
      "1 / 2\n",
      "2 / 1\n",
      "Valor real: 2.0\n",
      "3\n"
     ]
    }
   ],
   "source": [
    "class Fracao:\n",
    "    def __init__(self, numerador: int, denominador: int):\n",
    "        self.__numerador = numerador\n",
    "        self.__denominador = denominador\n",
    "        \n",
    "    @property\n",
    "    def numerador(self):\n",
    "        return self.__numerador\n",
    "    \n",
    "    @property\n",
    "    def denominador(self):\n",
    "        return self.__denominador\n",
    "        \n",
    "    def soma(self, fracao2):\n",
    "        multiplo_comum = self.__denominador * fracao2.denominador\n",
    "        \n",
    "        num1 = self.__numerador * fracao2.denominador\n",
    "        num2 = fracao2.numerador * self.__denominador\n",
    "        \n",
    "        num_resultante = num1 + num2\n",
    "        \n",
    "        print(f\"Soma resultou em {num_resultante} / {multiplo_comum}\")\n",
    "        \n",
    "    def multiplicacao(self, fracao2):\n",
    "        num_resultante = self.__numerador * fracao2.numerador\n",
    "        den_resultante = self.__denominador * fracao2.denominador\n",
    "        \n",
    "        print(f\"Multiplicação resultou em {num_resultante} / {den_resultante}\")\n",
    "        \n",
    "    def divisao(self, fracao2):\n",
    "        num_resultante = self.__numerador * fracao2.denominador\n",
    "        den_resultante = self.__denominador * fracao2.numerador\n",
    "        \n",
    "        print(f\"Divisão resultou em {num_resultante} / {den_resultante}\")\n",
    "        \n",
    "    def fracao(self):\n",
    "        print(f\"{self.__numerador} / {self.__denominador}\")\n",
    "        \n",
    "    def inverte_fracao(self):\n",
    "        temp = self.__numerador\n",
    "        self.__numerador = self.__denominador\n",
    "        self.__denominador = temp\n",
    "        \n",
    "    def valor_real(self):\n",
    "        print(f\"Valor real: {self.__numerador / self.__denominador}\")\n",
    "    \n",
    "    def real_to_fracao(self, real):\n",
    "        numerador = real\n",
    "        denominador = 1\n",
    "        return Fracao(numerador, denominador)\n",
    "        \n",
    "def main():\n",
    "    f1 = Fracao(1, 2)\n",
    "    f2 = Fracao(2, 1)\n",
    "    \n",
    "    f1.divisao(f2)\n",
    "    f1.fracao()\n",
    "    f1.inverte_fracao()\n",
    "    f1.fracao()\n",
    "    f1.valor_real()\n",
    "    \n",
    "    print(f1.real_to_fracao(3))\n",
    "    \n",
    "main()   "
   ]
  },
  {
   "cell_type": "code",
   "execution_count": null,
   "metadata": {},
   "outputs": [],
   "source": []
  },
  {
   "cell_type": "code",
   "execution_count": null,
   "metadata": {},
   "outputs": [],
   "source": []
  }
 ],
 "metadata": {
  "kernelspec": {
   "display_name": "Python 3",
   "language": "python",
   "name": "python3"
  },
  "language_info": {
   "codemirror_mode": {
    "name": "ipython",
    "version": 3
   },
   "file_extension": ".py",
   "mimetype": "text/x-python",
   "name": "python",
   "nbconvert_exporter": "python",
   "pygments_lexer": "ipython3",
   "version": "3.6.7"
  }
 },
 "nbformat": 4,
 "nbformat_minor": 2
}
